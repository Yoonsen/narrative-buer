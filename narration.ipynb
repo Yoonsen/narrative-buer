{
 "cells": [
  {
   "cell_type": "markdown",
   "metadata": {},
   "source": [
    "# Narration\n",
    "\n",
    "Using dispersion plots "
   ]
  },
  {
   "cell_type": "code",
   "execution_count": 1,
   "metadata": {},
   "outputs": [],
   "source": [
    "import dhlab.nbtext as nb\n",
    "import dhlab.module_update as mu"
   ]
  },
  {
   "cell_type": "code",
   "execution_count": 2,
   "metadata": {},
   "outputs": [
    {
     "data": {
      "text/html": [
       "<style>@import url(\n",
       "http://fonts.googleapis.com/css?family=Lato|Philosopher|Montserrat|Source+Code+Pro|Istok+Web|Philosopher|Assistant:200,400,700);\n",
       "\n",
       "/*\n",
       "#notebook-container {\n",
       "\t-webkit-box-shadow: none;\n",
       "\tbox-shadow: none;\n",
       "}\n",
       "*/\n",
       "\n",
       "h1, h2, h3, h4, h5, h6 {\n",
       "\tfont-family: 'Montserrat', sans-serif;\n",
       "\tline-height: 2em;\n",
       "    color: #004f99;\n",
       "    font-weight: 600;\n",
       "}\n",
       "\n",
       "h1 { font-size: 4.5em; }\n",
       "h2 { font-size: 4em; }\n",
       "h3 { font-size: 3.5em; }\n",
       "h4 { font-size: 3em; }\n",
       "h5 { font-size: 2.5em; color:DarkSlateGray; }\n",
       "h6 { font-size: 2em; }\n",
       "\n",
       "p {\n",
       "\tfont-family: 'Assistant', sans-serif; \n",
       "\tfont-size: 1.2em;\n",
       "\tline-height: 1.4em;\n",
       "\tcolor: black;\n",
       "}\n",
       "p code {\n",
       "\tfont-size:0.9em;\n",
       "}\n",
       "div.input_area {\n",
       "\tborder:none !important;\n",
       "\tborder-left:1px solid #ff851b !important\n",
       "}\n",
       "\n",
       "span.cm-keyword {\n",
       "\tcolor:#339966 !important;\n",
       "}\n",
       "span.nn {  /*span.cm-variable, span.cm-property*/\n",
       "\tcolor: #3399ff !important;\n",
       "}\n",
       "div.CodeMirror {\n",
       "\tfont-family: 'Inconsolata', monospace;\n",
       "\tfont-size: 1.1em;\n",
       "\t\n",
       "}\n",
       "</style>"
      ],
      "text/plain": [
       "<IPython.core.display.HTML object>"
      ]
     },
     "execution_count": 2,
     "metadata": {},
     "output_type": "execute_result"
    }
   ],
   "source": [
    "mu.css()"
   ]
  },
  {
   "cell_type": "code",
   "execution_count": 3,
   "metadata": {},
   "outputs": [],
   "source": [
    "def categorize(list_of_words):\n",
    "    proprium = [x for x in list_of_words if x[0].upper() == x[0]]\n",
    "    other = [x for x in list_of_words if not x in proprium]\n",
    "\n",
    "    return {'propr':proprium,\n",
    "           'other': other }\n",
    "\n",
    "def select_form(w):\n",
    "    fs = [x.split()[0] for x in nb.word_form(w)]\n",
    "    if 'verb' in fs:\n",
    "        res = 'verb'\n",
    "    elif 'subst' in fs:\n",
    "        res = 'subst'\n",
    "    elif len(fs) > 0:\n",
    "        res = fs[0]\n",
    "    else:\n",
    "        res = 'unknown'\n",
    "    return res\n",
    "\n",
    "def sort_word_forms(words):\n",
    "    res = {select_form(w):w for w in words}\n",
    "    return res\n",
    "\n",
    "def character_words(Character_name, number_of_words=50):\n",
    "    res = {w:select_form(w) for w in categorize(list(nb.frame_sort(nb.frame(coll_matrix[Character_name]/tot['tot'], 'association')).head(number_of_words).index))['other']}\n",
    "    result = {cat:[w for w in res if res[w] == cat] for cat in res.values()}\n",
    "    return result\n",
    "\n",
    "def mdprint(forskjell, cutoff=5):\n",
    "    categories = categorize(forskjell[forskjell > cutoff].dropna().index)\n",
    "    forms = {w:select_form(w) for w in categories['other']}\n",
    "    Grouping = {cat:[word for word in forms if forms[word] == cat] for cat in forms.values()}\n",
    "    navn = \"## Egennavn \\n\"\n",
    "    navn += ', '.join(categories['propr'])\n",
    "    pos = \"\"\n",
    "    for cat in Grouping:\n",
    "        pos += \"## \" + cat + \"\\n\"\n",
    "        pos += ', '.join(Grouping[cat]) + \"\\n\"\n",
    "    mu.printmd(navn)\n",
    "    mu.printmd(pos)\n",
    "    return"
   ]
  },
  {
   "cell_type": "code",
   "execution_count": 4,
   "metadata": {},
   "outputs": [],
   "source": [
    "import requests"
   ]
  },
  {
   "cell_type": "code",
   "execution_count": 5,
   "metadata": {},
   "outputs": [],
   "source": [
    "ref = nb.frame(nb.totals(50000), 'tot')"
   ]
  },
  {
   "cell_type": "code",
   "execution_count": null,
   "metadata": {},
   "outputs": [],
   "source": []
  }
 ],
 "metadata": {
  "kernelspec": {
   "display_name": "Python 3",
   "language": "python",
   "name": "python3"
  },
  "language_info": {
   "codemirror_mode": {
    "name": "ipython",
    "version": 3
   },
   "file_extension": ".py",
   "mimetype": "text/x-python",
   "name": "python",
   "nbconvert_exporter": "python",
   "pygments_lexer": "ipython3",
   "version": "3.6.10"
  }
 },
 "nbformat": 4,
 "nbformat_minor": 4
}
